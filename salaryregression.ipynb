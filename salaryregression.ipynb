{
 "cells": [
  {
   "cell_type": "code",
   "execution_count": 16,
   "metadata": {},
   "outputs": [],
   "source": [
    "import pandas as pd\n",
    "import numpy as np\n",
    "from sklearn.model_selection import train_test_split\n",
    "from sklearn.preprocessing import LabelEncoder, OneHotEncoder, StandardScaler\n",
    "import tensorflow as tf\n",
    "import pickle\n"
   ]
  },
  {
   "cell_type": "code",
<<<<<<< HEAD
   "execution_count": 28,
=======
   "execution_count": null,
>>>>>>> c55f7733535abf2c85c823b690a25d5d3a492e9b
   "metadata": {},
   "outputs": [
    {
     "data": {
      "text/html": [
       "<div>\n",
       "<style scoped>\n",
       "    .dataframe tbody tr th:only-of-type {\n",
       "        vertical-align: middle;\n",
       "    }\n",
       "\n",
       "    .dataframe tbody tr th {\n",
       "        vertical-align: top;\n",
       "    }\n",
       "\n",
       "    .dataframe thead th {\n",
       "        text-align: right;\n",
       "    }\n",
       "</style>\n",
       "<table border=\"1\" class=\"dataframe\">\n",
       "  <thead>\n",
       "    <tr style=\"text-align: right;\">\n",
       "      <th></th>\n",
       "      <th>RowNumber</th>\n",
       "      <th>CustomerId</th>\n",
       "      <th>Surname</th>\n",
       "      <th>CreditScore</th>\n",
       "      <th>Geography</th>\n",
       "      <th>Gender</th>\n",
       "      <th>Age</th>\n",
       "      <th>Tenure</th>\n",
       "      <th>Balance</th>\n",
       "      <th>NumOfProducts</th>\n",
       "      <th>HasCrCard</th>\n",
       "      <th>IsActiveMember</th>\n",
       "      <th>EstimatedSalary</th>\n",
       "      <th>Exited</th>\n",
       "    </tr>\n",
       "  </thead>\n",
       "  <tbody>\n",
       "    <tr>\n",
       "      <th>0</th>\n",
       "      <td>1</td>\n",
       "      <td>15634602</td>\n",
       "      <td>Hargrave</td>\n",
       "      <td>619</td>\n",
       "      <td>France</td>\n",
       "      <td>Female</td>\n",
       "      <td>42</td>\n",
       "      <td>2</td>\n",
       "      <td>0.00</td>\n",
       "      <td>1</td>\n",
       "      <td>1</td>\n",
       "      <td>1</td>\n",
       "      <td>101348.88</td>\n",
       "      <td>1</td>\n",
       "    </tr>\n",
       "    <tr>\n",
       "      <th>1</th>\n",
       "      <td>2</td>\n",
       "      <td>15647311</td>\n",
       "      <td>Hill</td>\n",
       "      <td>608</td>\n",
       "      <td>Spain</td>\n",
       "      <td>Female</td>\n",
       "      <td>41</td>\n",
       "      <td>1</td>\n",
       "      <td>83807.86</td>\n",
       "      <td>1</td>\n",
       "      <td>0</td>\n",
       "      <td>1</td>\n",
       "      <td>112542.58</td>\n",
       "      <td>0</td>\n",
       "    </tr>\n",
       "    <tr>\n",
       "      <th>2</th>\n",
       "      <td>3</td>\n",
       "      <td>15619304</td>\n",
       "      <td>Onio</td>\n",
       "      <td>502</td>\n",
       "      <td>France</td>\n",
       "      <td>Female</td>\n",
       "      <td>42</td>\n",
       "      <td>8</td>\n",
       "      <td>159660.80</td>\n",
       "      <td>3</td>\n",
       "      <td>1</td>\n",
       "      <td>0</td>\n",
       "      <td>113931.57</td>\n",
       "      <td>1</td>\n",
       "    </tr>\n",
       "    <tr>\n",
       "      <th>3</th>\n",
       "      <td>4</td>\n",
       "      <td>15701354</td>\n",
       "      <td>Boni</td>\n",
       "      <td>699</td>\n",
       "      <td>France</td>\n",
       "      <td>Female</td>\n",
       "      <td>39</td>\n",
       "      <td>1</td>\n",
       "      <td>0.00</td>\n",
       "      <td>2</td>\n",
       "      <td>0</td>\n",
       "      <td>0</td>\n",
       "      <td>93826.63</td>\n",
       "      <td>0</td>\n",
       "    </tr>\n",
       "    <tr>\n",
       "      <th>4</th>\n",
       "      <td>5</td>\n",
       "      <td>15737888</td>\n",
       "      <td>Mitchell</td>\n",
       "      <td>850</td>\n",
       "      <td>Spain</td>\n",
       "      <td>Female</td>\n",
       "      <td>43</td>\n",
       "      <td>2</td>\n",
       "      <td>125510.82</td>\n",
       "      <td>1</td>\n",
       "      <td>1</td>\n",
       "      <td>1</td>\n",
       "      <td>79084.10</td>\n",
       "      <td>0</td>\n",
       "    </tr>\n",
       "    <tr>\n",
       "      <th>...</th>\n",
       "      <td>...</td>\n",
       "      <td>...</td>\n",
       "      <td>...</td>\n",
       "      <td>...</td>\n",
       "      <td>...</td>\n",
       "      <td>...</td>\n",
       "      <td>...</td>\n",
       "      <td>...</td>\n",
       "      <td>...</td>\n",
       "      <td>...</td>\n",
       "      <td>...</td>\n",
       "      <td>...</td>\n",
       "      <td>...</td>\n",
       "      <td>...</td>\n",
       "    </tr>\n",
       "    <tr>\n",
       "      <th>9995</th>\n",
       "      <td>9996</td>\n",
       "      <td>15606229</td>\n",
       "      <td>Obijiaku</td>\n",
       "      <td>771</td>\n",
       "      <td>France</td>\n",
       "      <td>Male</td>\n",
       "      <td>39</td>\n",
       "      <td>5</td>\n",
       "      <td>0.00</td>\n",
       "      <td>2</td>\n",
       "      <td>1</td>\n",
       "      <td>0</td>\n",
       "      <td>96270.64</td>\n",
       "      <td>0</td>\n",
       "    </tr>\n",
       "    <tr>\n",
       "      <th>9996</th>\n",
       "      <td>9997</td>\n",
       "      <td>15569892</td>\n",
       "      <td>Johnstone</td>\n",
       "      <td>516</td>\n",
       "      <td>France</td>\n",
       "      <td>Male</td>\n",
       "      <td>35</td>\n",
       "      <td>10</td>\n",
       "      <td>57369.61</td>\n",
       "      <td>1</td>\n",
       "      <td>1</td>\n",
       "      <td>1</td>\n",
       "      <td>101699.77</td>\n",
       "      <td>0</td>\n",
       "    </tr>\n",
       "    <tr>\n",
       "      <th>9997</th>\n",
       "      <td>9998</td>\n",
       "      <td>15584532</td>\n",
       "      <td>Liu</td>\n",
       "      <td>709</td>\n",
       "      <td>France</td>\n",
       "      <td>Female</td>\n",
       "      <td>36</td>\n",
       "      <td>7</td>\n",
       "      <td>0.00</td>\n",
       "      <td>1</td>\n",
       "      <td>0</td>\n",
       "      <td>1</td>\n",
       "      <td>42085.58</td>\n",
       "      <td>1</td>\n",
       "    </tr>\n",
       "    <tr>\n",
       "      <th>9998</th>\n",
       "      <td>9999</td>\n",
       "      <td>15682355</td>\n",
       "      <td>Sabbatini</td>\n",
       "      <td>772</td>\n",
       "      <td>Germany</td>\n",
       "      <td>Male</td>\n",
       "      <td>42</td>\n",
       "      <td>3</td>\n",
       "      <td>75075.31</td>\n",
       "      <td>2</td>\n",
       "      <td>1</td>\n",
       "      <td>0</td>\n",
       "      <td>92888.52</td>\n",
       "      <td>1</td>\n",
       "    </tr>\n",
       "    <tr>\n",
       "      <th>9999</th>\n",
       "      <td>10000</td>\n",
       "      <td>15628319</td>\n",
       "      <td>Walker</td>\n",
       "      <td>792</td>\n",
       "      <td>France</td>\n",
       "      <td>Female</td>\n",
       "      <td>28</td>\n",
       "      <td>4</td>\n",
       "      <td>130142.79</td>\n",
       "      <td>1</td>\n",
       "      <td>1</td>\n",
       "      <td>0</td>\n",
       "      <td>38190.78</td>\n",
       "      <td>0</td>\n",
       "    </tr>\n",
       "  </tbody>\n",
       "</table>\n",
       "<p>10000 rows × 14 columns</p>\n",
       "</div>"
      ],
      "text/plain": [
       "      RowNumber  CustomerId    Surname  CreditScore Geography  Gender  Age  \\\n",
       "0             1    15634602   Hargrave          619    France  Female   42   \n",
       "1             2    15647311       Hill          608     Spain  Female   41   \n",
       "2             3    15619304       Onio          502    France  Female   42   \n",
       "3             4    15701354       Boni          699    France  Female   39   \n",
       "4             5    15737888   Mitchell          850     Spain  Female   43   \n",
       "...         ...         ...        ...          ...       ...     ...  ...   \n",
       "9995       9996    15606229   Obijiaku          771    France    Male   39   \n",
       "9996       9997    15569892  Johnstone          516    France    Male   35   \n",
       "9997       9998    15584532        Liu          709    France  Female   36   \n",
       "9998       9999    15682355  Sabbatini          772   Germany    Male   42   \n",
       "9999      10000    15628319     Walker          792    France  Female   28   \n",
       "\n",
       "      Tenure    Balance  NumOfProducts  HasCrCard  IsActiveMember  \\\n",
       "0          2       0.00              1          1               1   \n",
       "1          1   83807.86              1          0               1   \n",
       "2          8  159660.80              3          1               0   \n",
       "3          1       0.00              2          0               0   \n",
       "4          2  125510.82              1          1               1   \n",
       "...      ...        ...            ...        ...             ...   \n",
       "9995       5       0.00              2          1               0   \n",
       "9996      10   57369.61              1          1               1   \n",
       "9997       7       0.00              1          0               1   \n",
       "9998       3   75075.31              2          1               0   \n",
       "9999       4  130142.79              1          1               0   \n",
       "\n",
       "      EstimatedSalary  Exited  \n",
       "0           101348.88       1  \n",
       "1           112542.58       0  \n",
       "2           113931.57       1  \n",
       "3            93826.63       0  \n",
       "4            79084.10       0  \n",
       "...               ...     ...  \n",
       "9995         96270.64       0  \n",
       "9996        101699.77       0  \n",
       "9997         42085.58       1  \n",
       "9998         92888.52       1  \n",
       "9999         38190.78       0  \n",
       "\n",
       "[10000 rows x 14 columns]"
      ]
     },
     "execution_count": 28,
     "metadata": {},
     "output_type": "execute_result"
    }
   ],
   "source": [
    "df = pd.read_csv(\"Churn_Modelling.csv\")\n",
    "df\n"
   ]
  },
  {
   "cell_type": "code",
   "execution_count": 29,
   "metadata": {},
   "outputs": [
    {
     "data": {
      "text/html": [
       "<div>\n",
       "<style scoped>\n",
       "    .dataframe tbody tr th:only-of-type {\n",
       "        vertical-align: middle;\n",
       "    }\n",
       "\n",
       "    .dataframe tbody tr th {\n",
       "        vertical-align: top;\n",
       "    }\n",
       "\n",
       "    .dataframe thead th {\n",
       "        text-align: right;\n",
       "    }\n",
       "</style>\n",
       "<table border=\"1\" class=\"dataframe\">\n",
       "  <thead>\n",
       "    <tr style=\"text-align: right;\">\n",
       "      <th></th>\n",
       "      <th>CreditScore</th>\n",
       "      <th>Geography</th>\n",
       "      <th>Gender</th>\n",
       "      <th>Age</th>\n",
       "      <th>Tenure</th>\n",
       "      <th>Balance</th>\n",
       "      <th>NumOfProducts</th>\n",
       "      <th>HasCrCard</th>\n",
       "      <th>IsActiveMember</th>\n",
       "      <th>EstimatedSalary</th>\n",
       "      <th>Exited</th>\n",
       "    </tr>\n",
       "  </thead>\n",
       "  <tbody>\n",
       "    <tr>\n",
       "      <th>0</th>\n",
       "      <td>619</td>\n",
       "      <td>France</td>\n",
       "      <td>Female</td>\n",
       "      <td>42</td>\n",
       "      <td>2</td>\n",
       "      <td>0.00</td>\n",
       "      <td>1</td>\n",
       "      <td>1</td>\n",
       "      <td>1</td>\n",
       "      <td>101348.88</td>\n",
       "      <td>1</td>\n",
       "    </tr>\n",
       "    <tr>\n",
       "      <th>1</th>\n",
       "      <td>608</td>\n",
       "      <td>Spain</td>\n",
       "      <td>Female</td>\n",
       "      <td>41</td>\n",
       "      <td>1</td>\n",
       "      <td>83807.86</td>\n",
       "      <td>1</td>\n",
       "      <td>0</td>\n",
       "      <td>1</td>\n",
       "      <td>112542.58</td>\n",
       "      <td>0</td>\n",
       "    </tr>\n",
       "    <tr>\n",
       "      <th>2</th>\n",
       "      <td>502</td>\n",
       "      <td>France</td>\n",
       "      <td>Female</td>\n",
       "      <td>42</td>\n",
       "      <td>8</td>\n",
       "      <td>159660.80</td>\n",
       "      <td>3</td>\n",
       "      <td>1</td>\n",
       "      <td>0</td>\n",
       "      <td>113931.57</td>\n",
       "      <td>1</td>\n",
       "    </tr>\n",
       "    <tr>\n",
       "      <th>3</th>\n",
       "      <td>699</td>\n",
       "      <td>France</td>\n",
       "      <td>Female</td>\n",
       "      <td>39</td>\n",
       "      <td>1</td>\n",
       "      <td>0.00</td>\n",
       "      <td>2</td>\n",
       "      <td>0</td>\n",
       "      <td>0</td>\n",
       "      <td>93826.63</td>\n",
       "      <td>0</td>\n",
       "    </tr>\n",
       "    <tr>\n",
       "      <th>4</th>\n",
       "      <td>850</td>\n",
       "      <td>Spain</td>\n",
       "      <td>Female</td>\n",
       "      <td>43</td>\n",
       "      <td>2</td>\n",
       "      <td>125510.82</td>\n",
       "      <td>1</td>\n",
       "      <td>1</td>\n",
       "      <td>1</td>\n",
       "      <td>79084.10</td>\n",
       "      <td>0</td>\n",
       "    </tr>\n",
       "    <tr>\n",
       "      <th>...</th>\n",
       "      <td>...</td>\n",
       "      <td>...</td>\n",
       "      <td>...</td>\n",
       "      <td>...</td>\n",
       "      <td>...</td>\n",
       "      <td>...</td>\n",
       "      <td>...</td>\n",
       "      <td>...</td>\n",
       "      <td>...</td>\n",
       "      <td>...</td>\n",
       "      <td>...</td>\n",
       "    </tr>\n",
       "    <tr>\n",
       "      <th>9995</th>\n",
       "      <td>771</td>\n",
       "      <td>France</td>\n",
       "      <td>Male</td>\n",
       "      <td>39</td>\n",
       "      <td>5</td>\n",
       "      <td>0.00</td>\n",
       "      <td>2</td>\n",
       "      <td>1</td>\n",
       "      <td>0</td>\n",
       "      <td>96270.64</td>\n",
       "      <td>0</td>\n",
       "    </tr>\n",
       "    <tr>\n",
       "      <th>9996</th>\n",
       "      <td>516</td>\n",
       "      <td>France</td>\n",
       "      <td>Male</td>\n",
       "      <td>35</td>\n",
       "      <td>10</td>\n",
       "      <td>57369.61</td>\n",
       "      <td>1</td>\n",
       "      <td>1</td>\n",
       "      <td>1</td>\n",
       "      <td>101699.77</td>\n",
       "      <td>0</td>\n",
       "    </tr>\n",
       "    <tr>\n",
       "      <th>9997</th>\n",
       "      <td>709</td>\n",
       "      <td>France</td>\n",
       "      <td>Female</td>\n",
       "      <td>36</td>\n",
       "      <td>7</td>\n",
       "      <td>0.00</td>\n",
       "      <td>1</td>\n",
       "      <td>0</td>\n",
       "      <td>1</td>\n",
       "      <td>42085.58</td>\n",
       "      <td>1</td>\n",
       "    </tr>\n",
       "    <tr>\n",
       "      <th>9998</th>\n",
       "      <td>772</td>\n",
       "      <td>Germany</td>\n",
       "      <td>Male</td>\n",
       "      <td>42</td>\n",
       "      <td>3</td>\n",
       "      <td>75075.31</td>\n",
       "      <td>2</td>\n",
       "      <td>1</td>\n",
       "      <td>0</td>\n",
       "      <td>92888.52</td>\n",
       "      <td>1</td>\n",
       "    </tr>\n",
       "    <tr>\n",
       "      <th>9999</th>\n",
       "      <td>792</td>\n",
       "      <td>France</td>\n",
       "      <td>Female</td>\n",
       "      <td>28</td>\n",
       "      <td>4</td>\n",
       "      <td>130142.79</td>\n",
       "      <td>1</td>\n",
       "      <td>1</td>\n",
       "      <td>0</td>\n",
       "      <td>38190.78</td>\n",
       "      <td>0</td>\n",
       "    </tr>\n",
       "  </tbody>\n",
       "</table>\n",
       "<p>10000 rows × 11 columns</p>\n",
       "</div>"
      ],
      "text/plain": [
       "      CreditScore Geography  Gender  Age  Tenure    Balance  NumOfProducts  \\\n",
       "0             619    France  Female   42       2       0.00              1   \n",
       "1             608     Spain  Female   41       1   83807.86              1   \n",
       "2             502    France  Female   42       8  159660.80              3   \n",
       "3             699    France  Female   39       1       0.00              2   \n",
       "4             850     Spain  Female   43       2  125510.82              1   \n",
       "...           ...       ...     ...  ...     ...        ...            ...   \n",
       "9995          771    France    Male   39       5       0.00              2   \n",
       "9996          516    France    Male   35      10   57369.61              1   \n",
       "9997          709    France  Female   36       7       0.00              1   \n",
       "9998          772   Germany    Male   42       3   75075.31              2   \n",
       "9999          792    France  Female   28       4  130142.79              1   \n",
       "\n",
       "      HasCrCard  IsActiveMember  EstimatedSalary  Exited  \n",
       "0             1               1        101348.88       1  \n",
       "1             0               1        112542.58       0  \n",
       "2             1               0        113931.57       1  \n",
       "3             0               0         93826.63       0  \n",
       "4             1               1         79084.10       0  \n",
       "...         ...             ...              ...     ...  \n",
       "9995          1               0         96270.64       0  \n",
       "9996          1               1        101699.77       0  \n",
       "9997          0               1         42085.58       1  \n",
       "9998          1               0         92888.52       1  \n",
       "9999          1               0         38190.78       0  \n",
       "\n",
       "[10000 rows x 11 columns]"
      ]
     },
     "execution_count": 29,
     "metadata": {},
     "output_type": "execute_result"
    }
   ],
   "source": [
    "# Preprocess the data\n",
    "df=df.drop(['RowNumber','CustomerId','Surname'],axis=1)\n",
    "df\n"
   ]
  },
  {
   "cell_type": "code",
   "execution_count": 30,
   "metadata": {},
   "outputs": [],
   "source": [
    "## Encode categorical variables\n",
    "label_encoder_gender = LabelEncoder()\n",
    "df['Gender'] = label_encoder_gender.fit_transform(df['Gender'])\n"
   ]
  },
  {
   "cell_type": "code",
   "execution_count": 31,
   "metadata": {},
   "outputs": [
    {
     "name": "stderr",
     "output_type": "stream",
     "text": [
      "c:\\ANN\\venv\\Lib\\site-packages\\sklearn\\preprocessing\\_encoders.py:975: FutureWarning: `sparse` was renamed to `sparse_output` in version 1.2 and will be removed in 1.4. `sparse_output` is ignored unless you leave `sparse` to its default value.\n",
      "  warnings.warn(\n"
     ]
    }
   ],
   "source": [
    "## Onehot encode 'Geography\n",
    "onehot_encoder_geo = OneHotEncoder(sparse=False, handle_unknown='ignore')\n",
    "geo_encoded = onehot_encoder_geo.fit_transform(df[['Geography']])\n",
    "geo_df = pd.DataFrame(geo_encoded, columns=onehot_encoder_geo.get_feature_names_out(['Geography']))\n"
   ]
  },
  {
   "cell_type": "code",
   "execution_count": null,
   "metadata": {},
   "outputs": [],
   "source": [
    "\n",
    "## Combine one hot encoder columns with the orginal data\n",
    "df_combined = pd.concat([df.drop('Geography', axis=1), geo_df], axis=1)\n"
   ]
  },
  {
   "cell_type": "code",
   "execution_count": 33,
   "metadata": {},
   "outputs": [],
   "source": [
    "X = df_combined.drop('Exited', axis=1)\n",
    "y = df_combined['Exited']\n"
   ]
  },
  {
   "cell_type": "code",
   "execution_count": null,
   "metadata": {},
   "outputs": [],
   "source": [
    "\n",
    "# Scale features\n",
    "scaler = StandardScaler()\n",
    "X_scaled = scaler.fit_transform(X)\n"
   ]
  },
  {
   "cell_type": "code",
   "execution_count": null,
   "metadata": {},
   "outputs": [],
   "source": [
    "# Build classifier model with sigmoid\n",
    "model = tf.keras.models.Sequential([\n",
    "    tf.keras.layers.Dense(64, activation='relu', input_shape=(X_train.shape[1],)),\n",
    "    tf.keras.layers.Dense(32, activation='relu'),\n",
    "    tf.keras.layers.Dense(1, activation='sigmoid')  # sigmoid for classification function\n",
    "])\n"
   ]
  },
  {
   "cell_type": "code",
   "execution_count": 37,
   "metadata": {},
   "outputs": [
    {
     "name": "stdout",
     "output_type": "stream",
     "text": [
      "WARNING:tensorflow:From c:\\ANN\\venv\\Lib\\site-packages\\keras\\src\\optimizers\\__init__.py:309: The name tf.train.Optimizer is deprecated. Please use tf.compat.v1.train.Optimizer instead.\n",
      "\n"
     ]
    }
   ],
   "source": [
    "model.compile(optimizer='adam', loss='binary_crossentropy', metrics=['accuracy'])\n"
   ]
  },
  {
   "cell_type": "markdown",
   "metadata": {},
   "source": [
    "Model Training"
   ]
  },
  {
   "cell_type": "code",
   "execution_count": null,
   "metadata": {},
   "outputs": [],
   "source": [
    "from tensorflow.keras.callbacks import EarlyStopping,TensorBoard\n",
    "import datetime\n",
    "\n",
    "#Set up TensorBoard\n",
    "log_dir=\"regressionlogs/fit\" + datetime.datetime.now().strftime(\"%Y%m%d-%H%M%S\")\n",
    "tensorflow_callback=TensorBoard(log_dir=log_dir,histogram_freq=1)\n"
   ]
  },
  {
   "cell_type": "code",
   "execution_count": null,
   "metadata": {},
   "outputs": [],
   "source": [
    "## Set up Early stopping\n",
    "early_stopping_callback=EarlyStopping(monitor='val_loss',patience=10,restore_best_weights=True)\n"
   ]
  },
  {
   "cell_type": "code",
<<<<<<< HEAD
   "execution_count": 45,
=======
   "execution_count": null,
>>>>>>> c55f7733535abf2c85c823b690a25d5d3a492e9b
   "metadata": {},
   "outputs": [
    {
     "name": "stdout",
     "output_type": "stream",
     "text": [
      "Epoch 1/100\n",
      "250/250 [==============================] - 1s 4ms/step - loss: 0.3007 - accuracy: 0.8745 - val_loss: 0.3385 - val_accuracy: 0.8620\n",
      "Epoch 2/100\n",
      "250/250 [==============================] - 1s 2ms/step - loss: 0.2984 - accuracy: 0.8763 - val_loss: 0.3432 - val_accuracy: 0.8615\n",
      "Epoch 3/100\n",
      "250/250 [==============================] - 1s 2ms/step - loss: 0.2972 - accuracy: 0.8759 - val_loss: 0.3427 - val_accuracy: 0.8650\n",
      "Epoch 4/100\n",
      "250/250 [==============================] - 1s 2ms/step - loss: 0.2969 - accuracy: 0.8751 - val_loss: 0.3407 - val_accuracy: 0.8590\n",
      "Epoch 5/100\n",
      "250/250 [==============================] - 1s 3ms/step - loss: 0.2949 - accuracy: 0.8798 - val_loss: 0.3436 - val_accuracy: 0.8540\n",
      "Epoch 6/100\n",
      "250/250 [==============================] - 1s 2ms/step - loss: 0.2939 - accuracy: 0.8766 - val_loss: 0.3468 - val_accuracy: 0.8540\n",
      "Epoch 7/100\n",
      "250/250 [==============================] - 1s 2ms/step - loss: 0.2923 - accuracy: 0.8784 - val_loss: 0.3435 - val_accuracy: 0.8585\n",
      "Epoch 8/100\n",
      "250/250 [==============================] - 1s 2ms/step - loss: 0.2906 - accuracy: 0.8790 - val_loss: 0.3471 - val_accuracy: 0.8635\n",
      "Epoch 9/100\n",
      "250/250 [==============================] - 1s 2ms/step - loss: 0.2889 - accuracy: 0.8776 - val_loss: 0.3491 - val_accuracy: 0.8575\n",
      "Epoch 10/100\n",
      "250/250 [==============================] - 1s 2ms/step - loss: 0.2871 - accuracy: 0.8795 - val_loss: 0.3520 - val_accuracy: 0.8470\n",
      "Epoch 11/100\n",
      "250/250 [==============================] - 1s 2ms/step - loss: 0.2868 - accuracy: 0.8808 - val_loss: 0.3469 - val_accuracy: 0.8570\n"
     ]
    }
   ],
   "source": [
    "## Training the model\n",
    "history=model.fit(\n",
    "    X_train,y_train,validation_data=(X_test,y_test),epochs=100,\n",
    "    callbacks=[tensorflow_callback,early_stopping_callback]\n",
    ")\n"
   ]
  },
  {
   "cell_type": "code",
   "execution_count": 46,
   "metadata": {},
   "outputs": [],
   "source": [
    "## Save the encoders and scaler\n",
    "with open('label_encoder_gender.pkl','wb') as file:\n",
    "    pickle.dump(label_encoder_gender,file)\n",
    "\n",
    "with open('onehot_encoder_geo.pkl','wb') as file:\n",
    "          pickle.dump(onehot_encoder_geo,file)\n",
    "with open('scaler.pkl','wb') as file:\n",
    "    pickle.dump(scaler,file)\n"
   ]
  },
  {
   "cell_type": "markdown",
   "metadata": {},
   "source": [
    "ANN Regression Project statement"
   ]
  },
  {
   "cell_type": "code",
   "execution_count": 47,
   "metadata": {},
   "outputs": [],
   "source": [
    "from tensorflow.keras.callbacks import EarlyStopping,TensorBoard\n",
    "import datetime\n",
    "\n",
    "#Set up TensorBoard\n",
    "log_dir=\"regressionlogs/fit\" + datetime.datetime.now().strftime(\"%Y%m%d-%H%M%S\")\n",
    "tensorflow_callback=TensorBoard(log_dir=log_dir,histogram_freq=1)\n"
   ]
  },
  {
   "cell_type": "code",
   "execution_count": 48,
   "metadata": {},
   "outputs": [
    {
     "name": "stdout",
     "output_type": "stream",
     "text": [
      "The tensorboard extension is already loaded. To reload it, use:\n",
      "  %reload_ext tensorboard\n"
     ]
    }
   ],
   "source": [
    "%load_ext tensorboard\n"
   ]
  },
  {
   "cell_type": "code",
   "execution_count": 50,
   "metadata": {},
   "outputs": [
    {
     "data": {
      "text/plain": [
       "Reusing TensorBoard on port 6006 (pid 18088), started 0:00:04 ago. (Use '!kill 18088' to kill it.)"
      ]
     },
     "metadata": {},
     "output_type": "display_data"
    },
    {
     "data": {
      "text/html": [
       "\n",
       "      <iframe id=\"tensorboard-frame-89377c053247793a\" width=\"100%\" height=\"800\" frameborder=\"0\">\n",
       "      </iframe>\n",
       "      <script>\n",
       "        (function() {\n",
       "          const frame = document.getElementById(\"tensorboard-frame-89377c053247793a\");\n",
       "          const url = new URL(\"http://localhost\");\n",
       "          const port = 6006;\n",
       "          if (port) {\n",
       "            url.port = port;\n",
       "          }\n",
       "          frame.src = url;\n",
       "        })();\n",
       "      </script>\n",
       "    "
      ],
      "text/plain": [
       "<IPython.core.display.HTML object>"
      ]
     },
     "metadata": {},
     "output_type": "display_data"
    }
   ],
   "source": [
    "%tensorboard --logdir regressionlogs/fit20250704-102721\n"
   ]
  },
  {
   "cell_type": "code",
   "execution_count": 52,
   "metadata": {},
   "outputs": [
    {
     "name": "stdout",
     "output_type": "stream",
     "text": [
      "63/63 [==============================] - 0s 2ms/step - loss: 0.3385 - accuracy: 0.8620\n",
      "Test MAE: 0.8619999885559082\n"
     ]
    }
   ],
   "source": [
    "## Evaluate model on the test data\n",
    "test_loss,test_mae=model.evaluate(X_test,y_test)\n",
    "print(f'Test MAE: {test_mae}')\n"
   ]
  },
  {
   "cell_type": "code",
   "execution_count": 53,
   "metadata": {},
   "outputs": [
    {
     "name": "stderr",
     "output_type": "stream",
     "text": [
      "c:\\ANN\\venv\\Lib\\site-packages\\keras\\src\\engine\\training.py:3103: UserWarning: You are saving your model as an HDF5 file via `model.save()`. This file format is considered legacy. We recommend using instead the native Keras format, e.g. `model.save('my_model.keras')`.\n",
      "  saving_api.save_model(\n"
     ]
    }
   ],
   "source": [
    "model.save('regression_model.h5')\n"
   ]
  },
  {
   "cell_type": "markdown",
   "metadata": {},
   "source": [
    "Implementing SHAP"
   ]
  },
  {
   "cell_type": "code",
   "execution_count": 26,
   "metadata": {},
   "outputs": [
    {
     "name": "stderr",
     "output_type": "stream",
     "text": [
      "c:\\ANN\\venv\\Lib\\site-packages\\tqdm\\auto.py:21: TqdmWarning: IProgress not found. Please update jupyter and ipywidgets. See https://ipywidgets.readthedocs.io/en/stable/user_install.html\n",
      "  from .autonotebook import tqdm as notebook_tqdm\n",
      "c:\\ANN\\venv\\Lib\\site-packages\\sklearn\\base.py:465: UserWarning: X does not have valid feature names, but StandardScaler was fitted with feature names\n",
      "  warnings.warn(\n"
     ]
    }
   ],
   "source": [
    "import shap\n",
    "import numpy as np\n",
    "import pandas as pd\n",
    "from tensorflow.keras.models import load_model\n",
    "import pickle\n",
    "\n",
    "# Load model\n",
    "model = load_model('regression_model.h5')\n",
    "\n",
    "# Load preprocessors\n",
    "with open('scaler.pkl', 'rb') as f:\n",
    "    scaler = pickle.load(f)\n",
    "\n",
    "\n",
    "X_sample = X_test[:100]  # Use a small subset for SHAP speed\n",
    "X_scaled_sample = scaler.transform(X_sample)\n"
   ]
  },
  {
   "cell_type": "code",
   "execution_count": 27,
   "metadata": {},
   "outputs": [
    {
     "name": "stderr",
     "output_type": "stream",
     "text": [
      "PermutationExplainer explainer: 101it [00:15,  4.58it/s]                        \n"
     ]
    }
   ],
   "source": [
    "explainer = shap.Explainer(model, X_scaled_sample)\n",
    "shap_values = explainer(X_scaled_sample)\n"
   ]
  },
  {
   "cell_type": "code",
   "execution_count": null,
   "metadata": {},
   "outputs": [
    {
     "data": {
      "image/png": "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",
      "text/plain": [
       "<Figure size 800x550 with 2 Axes>"
      ]
     },
     "metadata": {},
     "output_type": "display_data"
    }
   ],
   "source": [
    "shap.plots.beeswarm(shap_values)\n"
   ]
  },
  {
   "cell_type": "code",
   "execution_count": 29,
   "metadata": {},
   "outputs": [
    {
     "data": {
      "image/png": "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",
      "text/plain": [
       "<Figure size 800x650 with 1 Axes>"
      ]
     },
     "metadata": {},
     "output_type": "display_data"
    }
   ],
   "source": [
    "shap.plots.bar(shap_values)\n"
   ]
  },
  {
   "cell_type": "code",
   "execution_count": null,
   "metadata": {},
   "outputs": [],
   "source": []
  }
 ],
 "metadata": {
  "kernelspec": {
   "display_name": "Python 3",
   "language": "python",
   "name": "python3"
  },
  "language_info": {
   "codemirror_mode": {
    "name": "ipython",
    "version": 3
   },
   "file_extension": ".py",
   "mimetype": "text/x-python",
   "name": "python",
   "nbconvert_exporter": "python",
   "pygments_lexer": "ipython3",
   "version": "3.11.4"
  }
 },
 "nbformat": 4,
 "nbformat_minor": 2
}
